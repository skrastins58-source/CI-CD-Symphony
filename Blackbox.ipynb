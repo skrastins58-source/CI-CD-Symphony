{
 "cells": [
  {
   "cell_type": "markdown",
   "id": "554e6463",
   "metadata": {},
   "source": [
    "# CI/CD Symphony - Advanced Workflow Commands"
   ]
  },
  {
   "cell_type": "code",
   "execution_count": null,
   "metadata": {
    "language_info": {
     "name": "polyglot-notebook"
    },
    "polyglot_notebook": {
     "kernelName": "csharp"
    },
    "vscode": {
     "languageId": "markdown"
    }
   },
   "outputs": [],
   "source": [
    "# Check the status of your working directory and see file changes\n",
    "git status"
   ]
  },
  {
   "cell_type": "code",
   "execution_count": null,
   "metadata": {
    "language_info": {
     "name": "polyglot-notebook"
    },
    "polyglot_notebook": {
     "kernelName": "csharp"
    },
    "vscode": {
     "languageId": "markdown"
    }
   },
   "outputs": [],
   "source": [
    "### Troubleshooting Merge and Lint Errors\n",
    "\n",
    "You are experiencing several issues during your merge and commit process:\n",
    "\n",
    "1. **package.json Parse Error**:  \n",
    "    - The error message indicates a merge conflict marker (`<<<<<<< HEAD`) was left in `package.json`.  \n",
    "    - **Solution**: Open `package.json`, search for `<<<<<<<`, and manually resolve the conflict by keeping the correct content and removing all conflict markers (`<<<<<<<`, `=======`, `>>>>>>>`). Save the file.\n",
    "\n",
    "2. **Unmerged Files**:  \n",
    "    - Git reports unmerged files in `.github/workflows/ci-cd-symphony.yml`, `jest.config.js`, `package-lock.json`, and `webpack.config.js`.\n",
    "    - **Solution**: Open each file, resolve any merge conflicts, then `git add <filename>` for each resolved file.\n",
    "\n",
    "3. **ESLint Errors (`window`/`document` not defined)**:  \n",
    "    - These errors occur because ESLint is running in a Node.js environment, but your code uses browser globals.\n",
    "    - **Solution**:  \n",
    "      - If these files are meant to run in the browser, add this comment at the top of each file that uses browser globals:\n",
    "         ```js\n",
    "         /* eslint-env browser */\n",
    "         ```\n",
    "      - Or, update your `.eslintrc.json` to include `\"browser\": true` in the `env` section:\n",
    "         ```json\n",
    "         {\n",
    "            \"env\": {\n",
    "              \"browser\": true,\n",
    "              \"node\": true\n",
    "            }\n",
    "         }\n",
    "         ```\n",
    "      - Then, re-run your commit.\n",
    "\n",
    "4. **Commit After Resolving**:  \n",
    "    - After fixing all conflicts and lint errors, stage the files and continue the merge:\n",
    "      ```bash\n",
    "      git add .\n",
    "      git merge --continue\n",
    "      ```\n",
    "\n",
    "**Summary of Steps:**\n",
    "1. Manually resolve all merge conflicts in the listed files.\n",
    "2. Fix ESLint errors by setting the correct environment.\n",
    "3. Stage all resolved files.\n",
    "4. Continue the merge.\n",
    "\n",
    "If you need example conflict resolution or `.eslintrc.json` edits, let me know!"
   ]
  },
  {
   "cell_type": "code",
   "execution_count": null,
   "id": "eefdf555",
   "metadata": {
    "language_info": {
     "name": "polyglot-notebook"
    },
    "polyglot_notebook": {
     "kernelName": "csharp"
    }
   },
   "outputs": [],
   "source": []
  },
  {
   "cell_type": "code",
   "execution_count": null,
   "metadata": {
    "language_info": {
     "name": "polyglot-notebook"
    },
    "polyglot_notebook": {
     "kernelName": "csharp"
    },
    "vscode": {
     "languageId": "markdown"
    }
   },
   "outputs": [],
   "source": [
    "### Finalizing the Merge and Regenerating `package-lock.json`\n",
    "\n",
    "After resolving all file-based conflicts, follow these steps to complete the merge and update your lock file:\n"
   ]
  },
  {
   "cell_type": "code",
   "execution_count": null,
   "id": "9c118e9a",
   "metadata": {
    "language_info": {
     "name": "polyglot-notebook"
    },
    "polyglot_notebook": {
     "kernelName": "csharp"
    }
   },
   "outputs": [],
   "source": []
  },
  {
   "cell_type": "code",
   "execution_count": null,
   "id": "8214e412",
   "metadata": {
    "language_info": {
     "name": "polyglot-notebook"
    },
    "polyglot_notebook": {
     "kernelName": "csharp"
    }
   },
   "outputs": [],
   "source": []
  },
  {
   "cell_type": "code",
   "execution_count": null,
   "id": "44609064",
   "metadata": {
    "language_info": {
     "name": "polyglot-notebook"
    },
    "polyglot_notebook": {
     "kernelName": "csharp"
    }
   },
   "outputs": [],
   "source": []
  },
  {
   "cell_type": "markdown",
   "id": "587d58b7",
   "metadata": {},
   "source": [
    "## 1. Local Development Setup\n",
    "\n",
    "These commands are for setting up your local environment and running basic development tasks."
   ]
  },
  {
   "cell_type": "code",
   "execution_count": null,
   "metadata": {
    "language_info": {
     "name": "polyglot-notebook"
    },
    "polyglot_notebook": {
     "kernelName": "csharp"
    },
    "vscode": {
     "languageId": "bash"
    }
   },
   "outputs": [],
   "source": [
    "# Install all project dependencies\n",
    "npm install"
   ]
  },
  {
   "cell_type": "markdown",
   "id": "8d4cf9ab",
   "metadata": {},
   "source": [
    "### Core Development Scripts"
   ]
  },
  {
   "cell_type": "code",
   "execution_count": null,
   "metadata": {
    "language_info": {
     "name": "polyglot-notebook"
    },
    "polyglot_notebook": {
     "kernelName": "csharp"
    },
    "vscode": {
     "languageId": "bash"
    }
   },
   "outputs": [],
   "source": [
    "# Run tests\n",
    "npm test"
   ]
  },
  {
   "cell_type": "code",
   "execution_count": null,
   "metadata": {
    "language_info": {
     "name": "polyglot-notebook"
    },
    "polyglot_notebook": {
     "kernelName": "csharp"
    },
    "vscode": {
     "languageId": "bash"
    }
   },
   "outputs": [],
   "source": [
    "# Build the project for production\n",
    "npm run build"
   ]
  },
  {
   "cell_type": "markdown",
   "id": "9ed17588",
   "metadata": {},
   "source": [
    "## 2. CI/CD Automation Scripts\n",
    "\n",
    "The CI/CD pipeline uses custom Node.js scripts located in the `scripts/` directory to perform various automated tasks."
   ]
  },
  {
   "cell_type": "code",
   "execution_count": null,
   "metadata": {
    "language_info": {
     "name": "polyglot-notebook"
    },
    "polyglot_notebook": {
     "kernelName": "csharp"
    },
    "vscode": {
     "languageId": "bash"
    }
   },
   "outputs": [],
   "source": [
    "# Run the main analysis script (Lighthouse, coverage, bundle size)\n",
    "node scripts/run-analysis.js"
   ]
  },
  {
   "cell_type": "code",
   "execution_count": null,
   "metadata": {
    "language_info": {
     "name": "polyglot-notebook"
    },
    "polyglot_notebook": {
     "kernelName": "csharp"
    },
    "vscode": {
     "languageId": "bash"
    }
   },
   "outputs": [],
   "source": [
    "# Generate metric badges\n",
    "node scripts/generate-badges.js"
   ]
  },
  {
   "cell_type": "code",
   "execution_count": null,
   "metadata": {
    "language_info": {
     "name": "polyglot-notebook"
    },
    "polyglot_notebook": {
     "kernelName": "csharp"
    },
    "vscode": {
     "languageId": "bash"
    }
   },
   "outputs": [],
   "source": [
    "# Post a comment to a Pull Request (requires environment variables)\n",
    "# GITHUB_TOKEN, PR_NUMBER\n",
    "node scripts/comment-pr.js"
   ]
  },
  {
   "cell_type": "code",
   "execution_count": null,
   "metadata": {
    "language_info": {
     "name": "polyglot-notebook"
    },
    "polyglot_notebook": {
     "kernelName": "csharp"
    },
    "vscode": {
     "languageId": "bash"
    }
   },
   "outputs": [],
   "source": [
    "# Send a Slack notification (requires environment variables)\n",
    "# SLACK_WEBHOOK_URL, SLACK_CHANNEL, etc.\n",
    "node scripts/slack-notify.js"
   ]
  },
  {
   "cell_type": "code",
   "execution_count": null,
   "metadata": {
    "language_info": {
     "name": "polyglot-notebook"
    },
    "polyglot_notebook": {
     "kernelName": "csharp"
    },
    "vscode": {
     "languageId": "bash"
    }
   },
   "outputs": [],
   "source": [
    "# Update the baseline metrics file\n",
    "node scripts/update-baseline.js"
   ]
  },
  {
   "cell_type": "markdown",
   "id": "f738235e",
   "metadata": {},
   "source": [
    "## 3. Git Workflow\n",
    "\n",
    "Commit your changes using semantic commit messages to ensure the automation works correctly. The pre-commit hook will automatically lint your code."
   ]
  },
  {
   "cell_type": "code",
   "execution_count": null,
   "metadata": {
    "language_info": {
     "name": "polyglot-notebook"
    },
    "polyglot_notebook": {
     "kernelName": "csharp"
    },
    "vscode": {
     "languageId": "bash"
    }
   },
   "outputs": [],
   "source": [
    "# Stage all changes\n",
    "git add ."
   ]
  }
 ],
 "metadata": {
  "kernelspec": {
   "display_name": ".NET (C#)",
   "language": "C#",
   "name": ".net-csharp"
  },
  "language_info": {
   "name": "polyglot-notebook"
  },
  "polyglot_notebook": {
   "kernelInfo": {
    "defaultKernelName": "csharp",
    "items": [
     {
      "aliases": [],
      "name": "csharp"
     }
    ]
   }
  }
 },
 "nbformat": 4,
 "nbformat_minor": 5
}
